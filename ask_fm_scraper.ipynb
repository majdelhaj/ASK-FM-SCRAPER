{
  "nbformat": 4,
  "nbformat_minor": 0,
  "metadata": {
    "colab": {
      "name": "ask-fm-scraper.ipynb",
      "provenance": [],
      "collapsed_sections": [],
      "authorship_tag": "ABX9TyMTGRQQWdAQ9XPlbOgTF7Fu",
      "include_colab_link": true
    },
    "kernelspec": {
      "name": "python3",
      "display_name": "Python 3"
    },
    "accelerator": "GPU"
  },
  "cells": [
    {
      "cell_type": "markdown",
      "metadata": {
        "id": "view-in-github",
        "colab_type": "text"
      },
      "source": [
        "<a href=\"https://colab.research.google.com/github/majdelhaj/ASK-FM-SCRAPER/blob/master/ask_fm_scraper.ipynb\" target=\"_parent\"><img src=\"https://colab.research.google.com/assets/colab-badge.svg\" alt=\"Open In Colab\"/></a>"
      ]
    },
    {
      "cell_type": "code",
      "metadata": {
        "id": "f7NwtP_h1vKX",
        "colab_type": "code",
        "colab": {
          "base_uri": "https://localhost:8080/",
          "height": 697
        },
        "outputId": "8503b286-084c-493a-eb4b-ed2ac1438738"
      },
      "source": [
        "import requests\n",
        "from bs4 import BeautifulSoup\n",
        "import json\n",
        "user_name = \"kays_khyari\"\n",
        "\n",
        "def format_questions(questions):\n",
        "    allQA = \"\";\n",
        "\n",
        "    for q in questions:\n",
        "        q_obj = BeautifulSoup(q.prettify(), 'html.parser')\n",
        "        \n",
        "        qaLine = \"\";\n",
        "        qaLine += str(q_obj.find(\"h2\").text).replace(\"\\n\", \" \").strip() + \"\\t\";\n",
        "        try:\n",
        "            qaLine += str(q_obj.find(\"div\", {\"class\":\"streamItem_content\"}).text).replace(\"\\n\", \" \").replace(\"View more\", \"\").strip() + \"\\n\";\n",
        "        except Exception as e :\n",
        "            qaLine += str(q_obj.find(\"img\").text).replace(\"\\n\", \" \").replace(\"View more\", \"\").strip() + \"\\n\";\n",
        "        \n",
        "        allQA += qaLine;\n",
        "    return allQA;\n",
        "\n",
        "def get_questions(user_name,top_answers=None):\n",
        "    next_page = \"\"\n",
        "    questions = \"\"\n",
        "    total_answers_num = \"\"\n",
        "    counter = 0\n",
        "    base_link = \"https://ask.fm\"\n",
        "\n",
        "    while True:\n",
        "        total_link = \"\"\n",
        "        if next_page:\n",
        "            total_link = \"{}/{}&no_prev_link=true\".format(base_link,next_page)\n",
        "        else:\n",
        "            if top_answers : \n",
        "                total_link = \"{}/{}/best\".format(base_link,user_name)\n",
        "            else:\n",
        "                total_link = \"{}/{}\".format(base_link,user_name)\n",
        "        print(\"Connecting to {}\".format(total_link))\n",
        "        r = requests.get(total_link)\n",
        "        print(r.status_code)\n",
        "        if r.status_code != 200:\n",
        "            break\n",
        "        else:\n",
        "            print(\"Done with code {}\".format(r.status_code))\n",
        "            soup = BeautifulSoup(r.text, 'html.parser')\n",
        "            if total_answers_num == \"\":\n",
        "                total_answers_num = soup.find(\"div\", {\"class\":\"profileTabAnswerCount\"}).text\n",
        "            \n",
        "            q = soup.find_all(\"article\",{\"class\":\"streamItem-answer\"})\n",
        "            counter += len(q)\n",
        "            print(\"Done parsing {} of {} Answers\".format(counter, total_answers_num))\n",
        "            q = format_questions(q)\n",
        "            questions += q;\n",
        "            next_page = soup.find_all(\"a\", {\"class\":\"item-page-next\"})\n",
        "\n",
        "            if len(next_page) >0:\n",
        "                next_page = next_page[0][\"href\"]\n",
        "            else:\n",
        "                break\n",
        "    with open(user_name+'.txt', 'a') as f:\n",
        "      f.write(questions)\n",
        "\n",
        "get_questions(user_name)"
      ],
      "execution_count": 11,
      "outputs": [
        {
          "output_type": "stream",
          "text": [
            "Connecting to https://ask.fm/kays_khyari\n",
            "200\n",
            "Done with code 200\n",
            "Done parsing 25 of 243 Answers\n",
            "Connecting to https://ask.fm//kays_khyari?iterator=25&older=1497901523&no_prev_link=true\n",
            "200\n",
            "Done with code 200\n",
            "Done parsing 50 of 243 Answers\n",
            "Connecting to https://ask.fm//kays_khyari?iterator=50&older=1497869587&no_prev_link=true\n",
            "200\n",
            "Done with code 200\n",
            "Done parsing 75 of 243 Answers\n",
            "Connecting to https://ask.fm//kays_khyari?iterator=75&older=1493786485&no_prev_link=true\n",
            "200\n",
            "Done with code 200\n",
            "Done parsing 100 of 243 Answers\n",
            "Connecting to https://ask.fm//kays_khyari?iterator=100&older=1482915042&no_prev_link=true\n",
            "200\n",
            "Done with code 200\n",
            "Done parsing 125 of 243 Answers\n",
            "Connecting to https://ask.fm//kays_khyari?iterator=125&older=1479051786&no_prev_link=true\n",
            "200\n",
            "Done with code 200\n",
            "Done parsing 150 of 243 Answers\n",
            "Connecting to https://ask.fm//kays_khyari?iterator=150&older=1478123830&no_prev_link=true\n",
            "200\n",
            "Done with code 200\n",
            "Done parsing 175 of 243 Answers\n",
            "Connecting to https://ask.fm//kays_khyari?iterator=175&older=1477803148&no_prev_link=true\n",
            "200\n",
            "Done with code 200\n",
            "Done parsing 200 of 243 Answers\n",
            "Connecting to https://ask.fm//kays_khyari?iterator=200&older=1477038296&no_prev_link=true\n",
            "200\n",
            "Done with code 200\n",
            "Done parsing 225 of 243 Answers\n",
            "Connecting to https://ask.fm//kays_khyari?iterator=225&older=1476359133&no_prev_link=true\n",
            "200\n",
            "Done with code 200\n",
            "Done parsing 243 of 243 Answers\n"
          ],
          "name": "stdout"
        }
      ]
    }
  ]
}